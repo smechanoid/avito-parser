{
 "cells": [
  {
   "cell_type": "markdown",
   "id": "f091d32b",
   "metadata": {},
   "source": [
    "__собираем объявления о продаже недвижимости в одну таблицу__\n",
    "\n",
    "_Evgeny S. Borisov <parser@mechanoid.su>_"
   ]
  },
  {
   "cell_type": "code",
   "execution_count": 1,
   "id": "f6eb5248",
   "metadata": {},
   "outputs": [
    {
     "name": "stdout",
     "output_type": "stream",
     "text": [
      "Вт 15 окт 2024 11:54:01 MSK\n"
     ]
    }
   ],
   "source": [
    "!date"
   ]
  },
  {
   "cell_type": "code",
   "execution_count": 2,
   "id": "3d378add",
   "metadata": {},
   "outputs": [],
   "source": [
    "from os import listdir\n",
    "import re\n",
    "import pandas as pd"
   ]
  },
  {
   "cell_type": "code",
   "execution_count": 3,
   "id": "6bfc5adc",
   "metadata": {},
   "outputs": [],
   "source": [
    "data_root_folder = 'data/2024'\n",
    "source = {\n",
    "        'flat-arenda':[ data_root_folder+'/raw/flat-arenda/avito'],\n",
    "        #  'flat':[data_root_folder+'/raw/flat/cian',data_root_folder+'/raw/flat/avito'],\n",
    "        # 'house':[data_root_folder+'/raw/house/cian',data_root_folder+'/raw/house/avito'],\n",
    "        #  'land':[data_root_folder+'/raw/land/cian',data_root_folder+'/raw/land/avito'],\n",
    "    }"
   ]
  },
  {
   "cell_type": "markdown",
   "id": "7f02d0fe",
   "metadata": {},
   "source": [
    "---"
   ]
  },
  {
   "cell_type": "code",
   "execution_count": 4,
   "id": "c4547a16",
   "metadata": {},
   "outputs": [
    {
     "data": {
      "text/plain": [
       "1"
      ]
     },
     "metadata": {},
     "output_type": "display_data"
    },
    {
     "data": {
      "text/plain": [
       "888"
      ]
     },
     "metadata": {},
     "output_type": "display_data"
    },
    {
     "data": {
      "text/html": [
       "<div>\n",
       "<style scoped>\n",
       "    .dataframe tbody tr th:only-of-type {\n",
       "        vertical-align: middle;\n",
       "    }\n",
       "\n",
       "    .dataframe tbody tr th {\n",
       "        vertical-align: top;\n",
       "    }\n",
       "\n",
       "    .dataframe thead th {\n",
       "        text-align: right;\n",
       "    }\n",
       "</style>\n",
       "<table border=\"1\" class=\"dataframe\">\n",
       "  <thead>\n",
       "    <tr style=\"text-align: right;\">\n",
       "      <th></th>\n",
       "      <th>url</th>\n",
       "      <th>place</th>\n",
       "      <th>title</th>\n",
       "      <th>price</th>\n",
       "      <th>address</th>\n",
       "      <th>description</th>\n",
       "      <th>ts</th>\n",
       "    </tr>\n",
       "  </thead>\n",
       "  <tbody>\n",
       "    <tr>\n",
       "      <th>30</th>\n",
       "      <td>https://www.avito.ru/1819090227</td>\n",
       "      <td>sevastopol</td>\n",
       "      <td>2-к. квартира, 52 м², 1/5 эт.</td>\n",
       "      <td>25000</td>\n",
       "      <td>ул. Ефремова, 14</td>\n",
       "      <td>Сдается длительно или до лета, от этого зависи...</td>\n",
       "      <td>2024-10-15 11:49:32.758481</td>\n",
       "    </tr>\n",
       "    <tr>\n",
       "      <th>246</th>\n",
       "      <td>https://www.avito.ru/3888830033</td>\n",
       "      <td>sevastopol</td>\n",
       "      <td>Квартира-студия, 21 м², 2/5 эт.</td>\n",
       "      <td>18500</td>\n",
       "      <td>ул. Маршала Блюхера, 11</td>\n",
       "      <td>Сдам Длительно! Сдам квартиру — студию с кухне...</td>\n",
       "      <td>2024-10-15 11:49:32.758481</td>\n",
       "    </tr>\n",
       "    <tr>\n",
       "      <th>821</th>\n",
       "      <td>https://www.avito.ru/2223129363</td>\n",
       "      <td>sevastopol</td>\n",
       "      <td>1-к. квартира, 43 м², 7/10 эт.</td>\n",
       "      <td>63000</td>\n",
       "      <td>Парковая ул., 11</td>\n",
       "      <td>Апартамент В Отеле «Аквамарин» + Спа входит в ...</td>\n",
       "      <td>2024-10-15 11:49:32.758481</td>\n",
       "    </tr>\n",
       "    <tr>\n",
       "      <th>373</th>\n",
       "      <td>https://www.avito.ru/4403964536</td>\n",
       "      <td>sevastopol</td>\n",
       "      <td>1-к. квартира, 40 м², 2/9 эт.</td>\n",
       "      <td>20000</td>\n",
       "      <td>пр-т Октябрьской Революции, 23к1</td>\n",
       "      <td>Сдается однокомнатная квартира возле парка Поб...</td>\n",
       "      <td>2024-10-15 11:49:32.758481</td>\n",
       "    </tr>\n",
       "    <tr>\n",
       "      <th>343</th>\n",
       "      <td>https://www.avito.ru/1803995297</td>\n",
       "      <td>sevastopol</td>\n",
       "      <td>3-к. квартира, 60 м², 4/5 эт.</td>\n",
       "      <td>30000</td>\n",
       "      <td>ул. Ерошенко</td>\n",
       "      <td>Собственник. Сдается квартира с хорошим ремонт...</td>\n",
       "      <td>2024-10-15 11:49:32.758481</td>\n",
       "    </tr>\n",
       "    <tr>\n",
       "      <th>72</th>\n",
       "      <td>https://www.avito.ru/2313156736</td>\n",
       "      <td>sevastopol</td>\n",
       "      <td>4-к. квартира, 100 м², 2/2 эт.</td>\n",
       "      <td>7900</td>\n",
       "      <td>Фиолентовское ш., 6</td>\n",
       "      <td>Крым. Севастополь. Длительная Аренда. Четырех ...</td>\n",
       "      <td>2024-10-15 11:49:32.758481</td>\n",
       "    </tr>\n",
       "    <tr>\n",
       "      <th>238</th>\n",
       "      <td>https://www.avito.ru/4335244146</td>\n",
       "      <td>sevastopol</td>\n",
       "      <td>3-к. квартира, 80 м², 7/9 эт.</td>\n",
       "      <td>40000</td>\n",
       "      <td>пр-т Октябрьской Революции, 22/15</td>\n",
       "      <td>Сдаётся длительно 3ком. Квартира, Остановка Па...</td>\n",
       "      <td>2024-10-15 11:49:32.758481</td>\n",
       "    </tr>\n",
       "    <tr>\n",
       "      <th>806</th>\n",
       "      <td>https://www.avito.ru/944781911</td>\n",
       "      <td>sevastopol</td>\n",
       "      <td>3-к. квартира, 80 м², 3/3 эт.</td>\n",
       "      <td>79999</td>\n",
       "      <td>Наваринская ул., 6</td>\n",
       "      <td>Сдается видовая двухуровневая квартира с терра...</td>\n",
       "      <td>2024-10-15 11:49:32.758481</td>\n",
       "    </tr>\n",
       "    <tr>\n",
       "      <th>712</th>\n",
       "      <td>https://www.avito.ru/3413503471</td>\n",
       "      <td>sevastopol</td>\n",
       "      <td>3-к. квартира, 77,6 м², 4/5 эт.</td>\n",
       "      <td>55000</td>\n",
       "      <td>ул. Ефремова, 24</td>\n",
       "      <td>Объект №27795. Сдам уютную современную квартир...</td>\n",
       "      <td>2024-10-15 11:49:32.758481</td>\n",
       "    </tr>\n",
       "  </tbody>\n",
       "</table>\n",
       "</div>"
      ],
      "text/plain": [
       "                                 url       place  \\\n",
       "30   https://www.avito.ru/1819090227  sevastopol   \n",
       "246  https://www.avito.ru/3888830033  sevastopol   \n",
       "821  https://www.avito.ru/2223129363  sevastopol   \n",
       "373  https://www.avito.ru/4403964536  sevastopol   \n",
       "343  https://www.avito.ru/1803995297  sevastopol   \n",
       "72   https://www.avito.ru/2313156736  sevastopol   \n",
       "238  https://www.avito.ru/4335244146  sevastopol   \n",
       "806   https://www.avito.ru/944781911  sevastopol   \n",
       "712  https://www.avito.ru/3413503471  sevastopol   \n",
       "\n",
       "                               title  price  \\\n",
       "30     2-к. квартира, 52 м², 1/5 эт.  25000   \n",
       "246  Квартира-студия, 21 м², 2/5 эт.  18500   \n",
       "821   1-к. квартира, 43 м², 7/10 эт.  63000   \n",
       "373    1-к. квартира, 40 м², 2/9 эт.  20000   \n",
       "343    3-к. квартира, 60 м², 4/5 эт.  30000   \n",
       "72    4-к. квартира, 100 м², 2/2 эт.   7900   \n",
       "238    3-к. квартира, 80 м², 7/9 эт.  40000   \n",
       "806    3-к. квартира, 80 м², 3/3 эт.  79999   \n",
       "712  3-к. квартира, 77,6 м², 4/5 эт.  55000   \n",
       "\n",
       "                               address  \\\n",
       "30                    ул. Ефремова, 14   \n",
       "246            ул. Маршала Блюхера, 11   \n",
       "821                   Парковая ул., 11   \n",
       "373   пр-т Октябрьской Революции, 23к1   \n",
       "343                       ул. Ерошенко   \n",
       "72                 Фиолентовское ш., 6   \n",
       "238  пр-т Октябрьской Революции, 22/15   \n",
       "806                 Наваринская ул., 6   \n",
       "712                   ул. Ефремова, 24   \n",
       "\n",
       "                                           description  \\\n",
       "30   Сдается длительно или до лета, от этого зависи...   \n",
       "246  Сдам Длительно! Сдам квартиру — студию с кухне...   \n",
       "821  Апартамент В Отеле «Аквамарин» + Спа входит в ...   \n",
       "373  Сдается однокомнатная квартира возле парка Поб...   \n",
       "343  Собственник. Сдается квартира с хорошим ремонт...   \n",
       "72   Крым. Севастополь. Длительная Аренда. Четырех ...   \n",
       "238  Сдаётся длительно 3ком. Квартира, Остановка Па...   \n",
       "806  Сдается видовая двухуровневая квартира с терра...   \n",
       "712  Объект №27795. Сдам уютную современную квартир...   \n",
       "\n",
       "                            ts  \n",
       "30  2024-10-15 11:49:32.758481  \n",
       "246 2024-10-15 11:49:32.758481  \n",
       "821 2024-10-15 11:49:32.758481  \n",
       "373 2024-10-15 11:49:32.758481  \n",
       "343 2024-10-15 11:49:32.758481  \n",
       "72  2024-10-15 11:49:32.758481  \n",
       "238 2024-10-15 11:49:32.758481  \n",
       "806 2024-10-15 11:49:32.758481  \n",
       "712 2024-10-15 11:49:32.758481  "
      ]
     },
     "metadata": {},
     "output_type": "display_data"
    }
   ],
   "source": [
    "obj_type = 'flat-arenda'\n",
    "files = [ f'{d}/{f}' for d in source[obj_type] for f in listdir(d) if f[-4:]=='.pkl' ]\n",
    "display( len(files) )\n",
    "\n",
    "cols = ['url','place','title','price','address','description','ts',]\n",
    "\n",
    "df_flat = pd.concat([\n",
    "        pd.read_pickle(f).drop_duplicates(['url'])\n",
    "        for f in files\n",
    "    ]).reset_index(drop=True)[cols]\n",
    "\n",
    "display( len(df_flat) )\n",
    "display(df_flat.sample(9))"
   ]
  },
  {
   "cell_type": "code",
   "execution_count": 5,
   "id": "e54759d5",
   "metadata": {},
   "outputs": [
    {
     "data": {
      "text/plain": [
       "888"
      ]
     },
     "metadata": {},
     "output_type": "display_data"
    },
    {
     "data": {
      "text/plain": [
       "888"
      ]
     },
     "metadata": {},
     "output_type": "display_data"
    }
   ],
   "source": [
    "display( len(df_flat) )\n",
    "df_flat = df_flat[ df_flat['price'].str.match(r'\\d+') ].reset_index(drop=True)\n",
    "display( len(df_flat) )"
   ]
  },
  {
   "cell_type": "code",
   "execution_count": 6,
   "id": "a1bb2815",
   "metadata": {},
   "outputs": [
    {
     "data": {
      "text/plain": [
       "888"
      ]
     },
     "metadata": {},
     "output_type": "display_data"
    },
    {
     "data": {
      "text/html": [
       "<div>\n",
       "<style scoped>\n",
       "    .dataframe tbody tr th:only-of-type {\n",
       "        vertical-align: middle;\n",
       "    }\n",
       "\n",
       "    .dataframe tbody tr th {\n",
       "        vertical-align: top;\n",
       "    }\n",
       "\n",
       "    .dataframe thead th {\n",
       "        text-align: right;\n",
       "    }\n",
       "</style>\n",
       "<table border=\"1\" class=\"dataframe\">\n",
       "  <thead>\n",
       "    <tr style=\"text-align: right;\">\n",
       "      <th></th>\n",
       "      <th>url</th>\n",
       "      <th>place</th>\n",
       "      <th>title</th>\n",
       "      <th>price</th>\n",
       "      <th>address</th>\n",
       "      <th>description</th>\n",
       "      <th>ts</th>\n",
       "      <th>nrooms</th>\n",
       "      <th>floor</th>\n",
       "      <th>nfloors</th>\n",
       "      <th>area</th>\n",
       "      <th>is_studio</th>\n",
       "      <th>is_apartment</th>\n",
       "      <th>is_part</th>\n",
       "      <th>is_auction</th>\n",
       "      <th>is_openspace</th>\n",
       "      <th>is_roof</th>\n",
       "      <th>is_SNT</th>\n",
       "      <th>priceM</th>\n",
       "      <th>is_last_floor</th>\n",
       "    </tr>\n",
       "  </thead>\n",
       "  <tbody>\n",
       "    <tr>\n",
       "      <th>366</th>\n",
       "      <td>https://www.avito.ru/4281138186</td>\n",
       "      <td>sevastopol</td>\n",
       "      <td>1-к. апартаменты, 33 м², 2/2 эт.</td>\n",
       "      <td>22000</td>\n",
       "      <td>Привольная улица , 4</td>\n",
       "      <td>Сдам большую уютную 1кв на ул Привольная д 4, ...</td>\n",
       "      <td>2024-10-15 11:49:32.758481</td>\n",
       "      <td>1</td>\n",
       "      <td>2</td>\n",
       "      <td>2</td>\n",
       "      <td>33.0</td>\n",
       "      <td>False</td>\n",
       "      <td>True</td>\n",
       "      <td>False</td>\n",
       "      <td>False</td>\n",
       "      <td>False</td>\n",
       "      <td>False</td>\n",
       "      <td>False</td>\n",
       "      <td>0.022000</td>\n",
       "      <td>True</td>\n",
       "    </tr>\n",
       "    <tr>\n",
       "      <th>552</th>\n",
       "      <td>https://www.avito.ru/4285085512</td>\n",
       "      <td>sevastopol</td>\n",
       "      <td>2-к. квартира, 65 м², 8/10 эт.</td>\n",
       "      <td>33000</td>\n",
       "      <td>улица Колобова, 18/2</td>\n",
       "      <td>Номер объекта: 113849. Сдается на длительный с...</td>\n",
       "      <td>2024-10-15 11:49:32.758481</td>\n",
       "      <td>2</td>\n",
       "      <td>8</td>\n",
       "      <td>10</td>\n",
       "      <td>65.0</td>\n",
       "      <td>False</td>\n",
       "      <td>False</td>\n",
       "      <td>False</td>\n",
       "      <td>False</td>\n",
       "      <td>False</td>\n",
       "      <td>False</td>\n",
       "      <td>False</td>\n",
       "      <td>0.033000</td>\n",
       "      <td>False</td>\n",
       "    </tr>\n",
       "    <tr>\n",
       "      <th>503</th>\n",
       "      <td>https://www.avito.ru/4482109338</td>\n",
       "      <td>sevastopol</td>\n",
       "      <td>1-к. квартира, 37,8 м², 1/5 эт.</td>\n",
       "      <td>22000</td>\n",
       "      <td>Михайловская улица , 7</td>\n",
       "      <td>Сдается теплая и уютная однокомнатная квартира...</td>\n",
       "      <td>2024-10-15 11:49:32.758481</td>\n",
       "      <td>1</td>\n",
       "      <td>1</td>\n",
       "      <td>5</td>\n",
       "      <td>37.8</td>\n",
       "      <td>False</td>\n",
       "      <td>False</td>\n",
       "      <td>False</td>\n",
       "      <td>False</td>\n",
       "      <td>False</td>\n",
       "      <td>False</td>\n",
       "      <td>False</td>\n",
       "      <td>0.022000</td>\n",
       "      <td>False</td>\n",
       "    </tr>\n",
       "    <tr>\n",
       "      <th>193</th>\n",
       "      <td>https://www.avito.ru/1239455278</td>\n",
       "      <td>sevastopol</td>\n",
       "      <td>3-к. квартира, 70,6 м², 3/3 эт.</td>\n",
       "      <td>49999</td>\n",
       "      <td>Большая Морская улица , 27</td>\n",
       "      <td>Сдается 3-я квартира в центре Севастополя на д...</td>\n",
       "      <td>2024-10-15 11:49:32.758481</td>\n",
       "      <td>3</td>\n",
       "      <td>3</td>\n",
       "      <td>3</td>\n",
       "      <td>70.6</td>\n",
       "      <td>False</td>\n",
       "      <td>False</td>\n",
       "      <td>False</td>\n",
       "      <td>False</td>\n",
       "      <td>False</td>\n",
       "      <td>False</td>\n",
       "      <td>False</td>\n",
       "      <td>0.049999</td>\n",
       "      <td>True</td>\n",
       "    </tr>\n",
       "    <tr>\n",
       "      <th>542</th>\n",
       "      <td>https://www.avito.ru/3922500442</td>\n",
       "      <td>sevastopol</td>\n",
       "      <td>2-к. квартира, 48 м², 1/1 эт.</td>\n",
       "      <td>22000</td>\n",
       "      <td>улица Ватутина, 60</td>\n",
       "      <td>Сдается длительно, Ленинский район, в частном ...</td>\n",
       "      <td>2024-10-15 11:49:32.758481</td>\n",
       "      <td>2</td>\n",
       "      <td>1</td>\n",
       "      <td>1</td>\n",
       "      <td>48.0</td>\n",
       "      <td>False</td>\n",
       "      <td>False</td>\n",
       "      <td>False</td>\n",
       "      <td>False</td>\n",
       "      <td>False</td>\n",
       "      <td>False</td>\n",
       "      <td>False</td>\n",
       "      <td>0.022000</td>\n",
       "      <td>True</td>\n",
       "    </tr>\n",
       "    <tr>\n",
       "      <th>375</th>\n",
       "      <td>https://www.avito.ru/4278894182</td>\n",
       "      <td>sevastopol</td>\n",
       "      <td>1-к. квартира, 40 м², 12/12 эт.</td>\n",
       "      <td>20000</td>\n",
       "      <td>Лабораторное шоссе , 33 к2</td>\n",
       "      <td>Сдаётся длительно, без повышений и вы селений ...</td>\n",
       "      <td>2024-10-15 11:49:32.758481</td>\n",
       "      <td>1</td>\n",
       "      <td>2</td>\n",
       "      <td>12</td>\n",
       "      <td>40.0</td>\n",
       "      <td>False</td>\n",
       "      <td>False</td>\n",
       "      <td>False</td>\n",
       "      <td>False</td>\n",
       "      <td>False</td>\n",
       "      <td>False</td>\n",
       "      <td>False</td>\n",
       "      <td>0.020000</td>\n",
       "      <td>False</td>\n",
       "    </tr>\n",
       "    <tr>\n",
       "      <th>205</th>\n",
       "      <td>https://www.avito.ru/3352095842</td>\n",
       "      <td>sevastopol</td>\n",
       "      <td>1-к. квартира, 32 м², 1/3 эт.</td>\n",
       "      <td>19000</td>\n",
       "      <td>улица Надежды Краевой, 13</td>\n",
       "      <td>Добрый день! Собственник! Сдам свою квартиру в...</td>\n",
       "      <td>2024-10-15 11:49:32.758481</td>\n",
       "      <td>1</td>\n",
       "      <td>1</td>\n",
       "      <td>3</td>\n",
       "      <td>32.0</td>\n",
       "      <td>False</td>\n",
       "      <td>False</td>\n",
       "      <td>False</td>\n",
       "      <td>False</td>\n",
       "      <td>False</td>\n",
       "      <td>False</td>\n",
       "      <td>False</td>\n",
       "      <td>0.019000</td>\n",
       "      <td>False</td>\n",
       "    </tr>\n",
       "    <tr>\n",
       "      <th>822</th>\n",
       "      <td>https://www.avito.ru/4279782989</td>\n",
       "      <td>sevastopol</td>\n",
       "      <td>квартира-студия, 30 м², 4/10 эт.</td>\n",
       "      <td>70000</td>\n",
       "      <td>Парковая улица , 15</td>\n",
       "      <td>Сдается длительно абсолютно новая квартира- ст...</td>\n",
       "      <td>2024-10-15 11:49:32.758481</td>\n",
       "      <td>0</td>\n",
       "      <td>4</td>\n",
       "      <td>10</td>\n",
       "      <td>30.0</td>\n",
       "      <td>True</td>\n",
       "      <td>False</td>\n",
       "      <td>False</td>\n",
       "      <td>False</td>\n",
       "      <td>False</td>\n",
       "      <td>False</td>\n",
       "      <td>False</td>\n",
       "      <td>0.070000</td>\n",
       "      <td>False</td>\n",
       "    </tr>\n",
       "    <tr>\n",
       "      <th>223</th>\n",
       "      <td>https://www.avito.ru/4357169900</td>\n",
       "      <td>sevastopol</td>\n",
       "      <td>1-к. квартира, 34,9 м², 3/5 эт.</td>\n",
       "      <td>20000</td>\n",
       "      <td>улица Богданова, 33</td>\n",
       "      <td>Сдается хорошая 1к квартира на Северной сторон...</td>\n",
       "      <td>2024-10-15 11:49:32.758481</td>\n",
       "      <td>1</td>\n",
       "      <td>3</td>\n",
       "      <td>5</td>\n",
       "      <td>34.9</td>\n",
       "      <td>False</td>\n",
       "      <td>False</td>\n",
       "      <td>False</td>\n",
       "      <td>False</td>\n",
       "      <td>False</td>\n",
       "      <td>False</td>\n",
       "      <td>False</td>\n",
       "      <td>0.020000</td>\n",
       "      <td>False</td>\n",
       "    </tr>\n",
       "  </tbody>\n",
       "</table>\n",
       "</div>"
      ],
      "text/plain": [
       "                                 url       place  \\\n",
       "366  https://www.avito.ru/4281138186  sevastopol   \n",
       "552  https://www.avito.ru/4285085512  sevastopol   \n",
       "503  https://www.avito.ru/4482109338  sevastopol   \n",
       "193  https://www.avito.ru/1239455278  sevastopol   \n",
       "542  https://www.avito.ru/3922500442  sevastopol   \n",
       "375  https://www.avito.ru/4278894182  sevastopol   \n",
       "205  https://www.avito.ru/3352095842  sevastopol   \n",
       "822  https://www.avito.ru/4279782989  sevastopol   \n",
       "223  https://www.avito.ru/4357169900  sevastopol   \n",
       "\n",
       "                                title  price                     address  \\\n",
       "366  1-к. апартаменты, 33 м², 2/2 эт.  22000        Привольная улица , 4   \n",
       "552    2-к. квартира, 65 м², 8/10 эт.  33000        улица Колобова, 18/2   \n",
       "503   1-к. квартира, 37,8 м², 1/5 эт.  22000      Михайловская улица , 7   \n",
       "193   3-к. квартира, 70,6 м², 3/3 эт.  49999  Большая Морская улица , 27   \n",
       "542     2-к. квартира, 48 м², 1/1 эт.  22000          улица Ватутина, 60   \n",
       "375   1-к. квартира, 40 м², 12/12 эт.  20000  Лабораторное шоссе , 33 к2   \n",
       "205     1-к. квартира, 32 м², 1/3 эт.  19000   улица Надежды Краевой, 13   \n",
       "822  квартира-студия, 30 м², 4/10 эт.  70000         Парковая улица , 15   \n",
       "223   1-к. квартира, 34,9 м², 3/5 эт.  20000         улица Богданова, 33   \n",
       "\n",
       "                                           description  \\\n",
       "366  Сдам большую уютную 1кв на ул Привольная д 4, ...   \n",
       "552  Номер объекта: 113849. Сдается на длительный с...   \n",
       "503  Сдается теплая и уютная однокомнатная квартира...   \n",
       "193  Сдается 3-я квартира в центре Севастополя на д...   \n",
       "542  Сдается длительно, Ленинский район, в частном ...   \n",
       "375  Сдаётся длительно, без повышений и вы селений ...   \n",
       "205  Добрый день! Собственник! Сдам свою квартиру в...   \n",
       "822  Сдается длительно абсолютно новая квартира- ст...   \n",
       "223  Сдается хорошая 1к квартира на Северной сторон...   \n",
       "\n",
       "                            ts  nrooms  floor  nfloors  area  is_studio  \\\n",
       "366 2024-10-15 11:49:32.758481       1      2        2  33.0      False   \n",
       "552 2024-10-15 11:49:32.758481       2      8       10  65.0      False   \n",
       "503 2024-10-15 11:49:32.758481       1      1        5  37.8      False   \n",
       "193 2024-10-15 11:49:32.758481       3      3        3  70.6      False   \n",
       "542 2024-10-15 11:49:32.758481       2      1        1  48.0      False   \n",
       "375 2024-10-15 11:49:32.758481       1      2       12  40.0      False   \n",
       "205 2024-10-15 11:49:32.758481       1      1        3  32.0      False   \n",
       "822 2024-10-15 11:49:32.758481       0      4       10  30.0       True   \n",
       "223 2024-10-15 11:49:32.758481       1      3        5  34.9      False   \n",
       "\n",
       "     is_apartment  is_part  is_auction  is_openspace  is_roof  is_SNT  \\\n",
       "366          True    False       False         False    False   False   \n",
       "552         False    False       False         False    False   False   \n",
       "503         False    False       False         False    False   False   \n",
       "193         False    False       False         False    False   False   \n",
       "542         False    False       False         False    False   False   \n",
       "375         False    False       False         False    False   False   \n",
       "205         False    False       False         False    False   False   \n",
       "822         False    False       False         False    False   False   \n",
       "223         False    False       False         False    False   False   \n",
       "\n",
       "       priceM  is_last_floor  \n",
       "366  0.022000           True  \n",
       "552  0.033000          False  \n",
       "503  0.022000          False  \n",
       "193  0.049999           True  \n",
       "542  0.022000           True  \n",
       "375  0.020000          False  \n",
       "205  0.019000          False  \n",
       "822  0.070000          False  \n",
       "223  0.020000          False  "
      ]
     },
     "metadata": {},
     "output_type": "display_data"
    }
   ],
   "source": [
    "from lib.cleaner import CleanerFlat\n",
    "\n",
    "df_flat = CleanerFlat().transform(df_flat)\n",
    "display( len(df_flat) )\n",
    "display(df_flat.sample(9))"
   ]
  },
  {
   "cell_type": "markdown",
   "id": "2903ab86",
   "metadata": {},
   "source": [
    "## обновляем таблицу адресов"
   ]
  },
  {
   "cell_type": "code",
   "execution_count": 7,
   "id": "119c3d8a",
   "metadata": {},
   "outputs": [],
   "source": [
    "from lib.locator import AddressTransformer\n",
    "\n",
    "atr = AddressTransformer()\n",
    "\n",
    "places = { \n",
    "# поле 'place' и название города\n",
    "'bahchisaray': 'Бахчисарай,',\n",
    "      'sudak': 'Судак,',\n",
    "  'sevastopol': 'Севастополь,',\n",
    "}\n",
    "\n",
    "def address_norm(df,atr=atr):\n",
    "    df['address_orig'] =  df['address']\n",
    "    df['address'] =  df['address'].apply(atr.transform)\n",
    "    df['place_'] =  df['place'].map(places)\n",
    "    df['address'] = df[['address','place_']].apply(lambda d: d[0] if d[1] in d[0] else d[1]+','+d[0],axis=1) \n",
    "    df['address'] = (\n",
    "        df['address']\n",
    "        .str.replace(', ',',')\n",
    "        .str.replace(',,',',')\n",
    "        .str.replace('. ','.')\n",
    "        .str.replace('\\n',' ')\n",
    "        .str.replace('  ',' ')\n",
    "        .str.lower()\n",
    "    )\n",
    "    return df"
   ]
  },
  {
   "cell_type": "code",
   "execution_count": 8,
   "id": "c63e62e0",
   "metadata": {},
   "outputs": [
    {
     "name": "stderr",
     "output_type": "stream",
     "text": [
      "/tmp/ipykernel_9101/776805188.py:16: FutureWarning: Series.__getitem__ treating keys as positions is deprecated. In a future version, integer keys will always be treated as labels (consistent with DataFrame behavior). To access a value by position, use `ser.iloc[pos]`\n",
      "  df['address'] = df[['address','place_']].apply(lambda d: d[0] if d[1] in d[0] else d[1]+','+d[0],axis=1)\n"
     ]
    }
   ],
   "source": [
    "df_flat = address_norm(df_flat)"
   ]
  },
  {
   "cell_type": "code",
   "execution_count": 9,
   "id": "64fb070a",
   "metadata": {},
   "outputs": [],
   "source": [
    "# df_flat[['address','address_orig']]"
   ]
  },
  {
   "cell_type": "code",
   "execution_count": 10,
   "id": "281f85c2",
   "metadata": {},
   "outputs": [
    {
     "data": {
      "text/plain": [
       "658"
      ]
     },
     "metadata": {},
     "output_type": "display_data"
    },
    {
     "data": {
      "text/html": [
       "<div>\n",
       "<style scoped>\n",
       "    .dataframe tbody tr th:only-of-type {\n",
       "        vertical-align: middle;\n",
       "    }\n",
       "\n",
       "    .dataframe tbody tr th {\n",
       "        vertical-align: top;\n",
       "    }\n",
       "\n",
       "    .dataframe thead th {\n",
       "        text-align: right;\n",
       "    }\n",
       "</style>\n",
       "<table border=\"1\" class=\"dataframe\">\n",
       "  <thead>\n",
       "    <tr style=\"text-align: right;\">\n",
       "      <th></th>\n",
       "      <th>address</th>\n",
       "      <th>address_orig</th>\n",
       "    </tr>\n",
       "  </thead>\n",
       "  <tbody>\n",
       "    <tr>\n",
       "      <th>358</th>\n",
       "      <td>севастополь,улица генерала хрюкина,18</td>\n",
       "      <td>улица Генерала Хрюкина, 18</td>\n",
       "    </tr>\n",
       "    <tr>\n",
       "      <th>148</th>\n",
       "      <td>севастополь,проспект октябрьской революции,21</td>\n",
       "      <td>проспект Октябрьской Революции, 21</td>\n",
       "    </tr>\n",
       "    <tr>\n",
       "      <th>304</th>\n",
       "      <td>севастополь,проспект юрия гагарина,38</td>\n",
       "      <td>проспект Юрия Гагарина, 38</td>\n",
       "    </tr>\n",
       "    <tr>\n",
       "      <th>399</th>\n",
       "      <td>севастополь,улица генерала мельника,68</td>\n",
       "      <td>улица Генерала Мельника, 68</td>\n",
       "    </tr>\n",
       "    <tr>\n",
       "      <th>79</th>\n",
       "      <td>севастополь,улица багрия,75/5</td>\n",
       "      <td>улица Багрия, 75/5</td>\n",
       "    </tr>\n",
       "  </tbody>\n",
       "</table>\n",
       "</div>"
      ],
      "text/plain": [
       "                                           address  \\\n",
       "358          севастополь,улица генерала хрюкина,18   \n",
       "148  севастополь,проспект октябрьской революции,21   \n",
       "304          севастополь,проспект юрия гагарина,38   \n",
       "399         севастополь,улица генерала мельника,68   \n",
       "79                   севастополь,улица багрия,75/5   \n",
       "\n",
       "                            address_orig  \n",
       "358           улица Генерала Хрюкина, 18  \n",
       "148   проспект Октябрьской Революции, 21  \n",
       "304           проспект Юрия Гагарина, 38  \n",
       "399          улица Генерала Мельника, 68  \n",
       "79                    улица Багрия, 75/5  "
      ]
     },
     "metadata": {},
     "output_type": "display_data"
    }
   ],
   "source": [
    "address = pd.concat([\n",
    "        df_flat[['address','address_orig']],\n",
    "    ]).drop_duplicates(['address']).reset_index(drop=True)\n",
    "\n",
    "display(len(address))\n",
    "display(address.sample(5))"
   ]
  },
  {
   "cell_type": "code",
   "execution_count": 11,
   "id": "b6f40b6e",
   "metadata": {},
   "outputs": [
    {
     "data": {
      "text/plain": [
       "21259"
      ]
     },
     "metadata": {},
     "output_type": "display_data"
    },
    {
     "data": {
      "text/html": [
       "<div>\n",
       "<style scoped>\n",
       "    .dataframe tbody tr th:only-of-type {\n",
       "        vertical-align: middle;\n",
       "    }\n",
       "\n",
       "    .dataframe tbody tr th {\n",
       "        vertical-align: top;\n",
       "    }\n",
       "\n",
       "    .dataframe thead th {\n",
       "        text-align: right;\n",
       "    }\n",
       "</style>\n",
       "<table border=\"1\" class=\"dataframe\">\n",
       "  <thead>\n",
       "    <tr style=\"text-align: right;\">\n",
       "      <th></th>\n",
       "      <th>address</th>\n",
       "      <th>latitude</th>\n",
       "      <th>longitude</th>\n",
       "    </tr>\n",
       "  </thead>\n",
       "  <tbody>\n",
       "    <tr>\n",
       "      <th>17177</th>\n",
       "      <td>севастополь,ул.ивана яцуненко,6</td>\n",
       "      <td>44.601613</td>\n",
       "      <td>33.582807</td>\n",
       "    </tr>\n",
       "    <tr>\n",
       "      <th>20225</th>\n",
       "      <td>судак,республика крым,судак городской округ,с....</td>\n",
       "      <td>44.839297</td>\n",
       "      <td>35.046989</td>\n",
       "    </tr>\n",
       "    <tr>\n",
       "      <th>10786</th>\n",
       "      <td>севастополь,район гагаринский,электрон ст ,83</td>\n",
       "      <td>44.559021</td>\n",
       "      <td>33.441017</td>\n",
       "    </tr>\n",
       "    <tr>\n",
       "      <th>1986</th>\n",
       "      <td>севастополь,балаклава,утренняя ул.</td>\n",
       "      <td>44.512316</td>\n",
       "      <td>33.620258</td>\n",
       "    </tr>\n",
       "    <tr>\n",
       "      <th>10549</th>\n",
       "      <td>севастополь,район гагаринский,стрелецкая бухта...</td>\n",
       "      <td>44.596447</td>\n",
       "      <td>33.487774</td>\n",
       "    </tr>\n",
       "  </tbody>\n",
       "</table>\n",
       "</div>"
      ],
      "text/plain": [
       "                                                 address   latitude  longitude\n",
       "17177                    севастополь,ул.ивана яцуненко,6  44.601613  33.582807\n",
       "20225  судак,республика крым,судак городской округ,с....  44.839297  35.046989\n",
       "10786      севастополь,район гагаринский,электрон ст ,83  44.559021  33.441017\n",
       "1986                  севастополь,балаклава,утренняя ул.  44.512316  33.620258\n",
       "10549  севастополь,район гагаринский,стрелецкая бухта...  44.596447  33.487774"
      ]
     },
     "metadata": {},
     "output_type": "display_data"
    }
   ],
   "source": [
    "from os.path import exists as path_exists\n",
    "loc_file_path = 'data/location.pkl' # таблица адресов\n",
    "\n",
    "location = pd.DataFrame([],columns=['address','latitude','longitude',])\n",
    "if path_exists( loc_file_path ):\n",
    "    location = pd.read_pickle(loc_file_path).drop_duplicates(['address']).reset_index(drop=True)\n",
    "    \n",
    "display(len(location))\n",
    "display(location.sample(5))    "
   ]
  },
  {
   "cell_type": "markdown",
   "id": "488861da",
   "metadata": {},
   "source": [
    "---"
   ]
  },
  {
   "cell_type": "code",
   "execution_count": 12,
   "id": "0071c69d",
   "metadata": {},
   "outputs": [],
   "source": [
    "# def address_norm_(df):\n",
    "#     df['address_orig'] =  df['address']\n",
    "#     # df['address'] =  df['address'].apply(atr.transform)\n",
    "#     df['address'] = (\n",
    "#         df['address']\n",
    "#         .str.replace(', ',',')\n",
    "#         .str.replace(',,',',')\n",
    "#         .str.replace('. ','.')\n",
    "#         .str.replace('\\n',' ')\n",
    "#         .str.replace('  ',' ')\n",
    "#         .str.lower()\n",
    "#     )\n",
    "#     return df"
   ]
  },
  {
   "cell_type": "code",
   "execution_count": 13,
   "id": "2e2bbdb2",
   "metadata": {},
   "outputs": [],
   "source": [
    "# location = address_norm_(location)"
   ]
  },
  {
   "cell_type": "code",
   "execution_count": 14,
   "id": "ab42f32d",
   "metadata": {},
   "outputs": [],
   "source": [
    "# location = location[['address','latitude','longitude']]"
   ]
  },
  {
   "cell_type": "markdown",
   "id": "54a73e69",
   "metadata": {},
   "source": [
    "---"
   ]
  },
  {
   "cell_type": "code",
   "execution_count": 15,
   "id": "32139c26",
   "metadata": {},
   "outputs": [
    {
     "data": {
      "text/plain": [
       "21282"
      ]
     },
     "metadata": {},
     "output_type": "display_data"
    },
    {
     "data": {
      "text/html": [
       "<div>\n",
       "<style scoped>\n",
       "    .dataframe tbody tr th:only-of-type {\n",
       "        vertical-align: middle;\n",
       "    }\n",
       "\n",
       "    .dataframe tbody tr th {\n",
       "        vertical-align: top;\n",
       "    }\n",
       "\n",
       "    .dataframe thead th {\n",
       "        text-align: right;\n",
       "    }\n",
       "</style>\n",
       "<table border=\"1\" class=\"dataframe\">\n",
       "  <thead>\n",
       "    <tr style=\"text-align: right;\">\n",
       "      <th></th>\n",
       "      <th>address</th>\n",
       "      <th>latitude</th>\n",
       "      <th>longitude</th>\n",
       "    </tr>\n",
       "  </thead>\n",
       "  <tbody>\n",
       "    <tr>\n",
       "      <th>2053</th>\n",
       "      <td>севастополь,балаклавский район ,нагорная улица,20</td>\n",
       "      <td>44.539223</td>\n",
       "      <td>33.68818</td>\n",
       "    </tr>\n",
       "    <tr>\n",
       "      <th>270</th>\n",
       "      <td>бахчисарай,с.верхоречье,высокая ул.,1</td>\n",
       "      <td>44.700499</td>\n",
       "      <td>33.985908</td>\n",
       "    </tr>\n",
       "    <tr>\n",
       "      <th>2991</th>\n",
       "      <td>севастополь,кача</td>\n",
       "      <td>44.743083</td>\n",
       "      <td>33.551196</td>\n",
       "    </tr>\n",
       "    <tr>\n",
       "      <th>4068</th>\n",
       "      <td>севастополь,охотская ул.,34</td>\n",
       "      <td>44.591087</td>\n",
       "      <td>33.531307</td>\n",
       "    </tr>\n",
       "    <tr>\n",
       "      <th>11377</th>\n",
       "      <td>севастополь,район нахимовский,горпищенко,улица...</td>\n",
       "      <td>44.596062</td>\n",
       "      <td>33.559765</td>\n",
       "    </tr>\n",
       "  </tbody>\n",
       "</table>\n",
       "</div>"
      ],
      "text/plain": [
       "                                                 address   latitude  longitude\n",
       "2053   севастополь,балаклавский район ,нагорная улица,20  44.539223   33.68818\n",
       "270                бахчисарай,с.верхоречье,высокая ул.,1  44.700499  33.985908\n",
       "2991                                    севастополь,кача  44.743083  33.551196\n",
       "4068                         севастополь,охотская ул.,34  44.591087  33.531307\n",
       "11377  севастополь,район нахимовский,горпищенко,улица...  44.596062  33.559765"
      ]
     },
     "metadata": {},
     "output_type": "display_data"
    }
   ],
   "source": [
    "# собираем все адреса в один список\n",
    "location = location.merge(\n",
    "        address[['address']].drop_duplicates(),\n",
    "        how='outer',\n",
    "        on='address',\n",
    "    ).drop_duplicates(['address']).reset_index(drop=True)\n",
    "\n",
    "display(len(location))\n",
    "display(location.sample(5))    "
   ]
  },
  {
   "cell_type": "code",
   "execution_count": 16,
   "id": "9b736325",
   "metadata": {},
   "outputs": [
    {
     "data": {
      "text/plain": [
       "21282"
      ]
     },
     "metadata": {},
     "output_type": "display_data"
    },
    {
     "data": {
      "text/plain": [
       "23"
      ]
     },
     "metadata": {},
     "output_type": "display_data"
    }
   ],
   "source": [
    "display(len(location))\n",
    "display(location['latitude'].isnull().sum())"
   ]
  },
  {
   "cell_type": "code",
   "execution_count": 17,
   "id": "dc8a529a",
   "metadata": {},
   "outputs": [
    {
     "data": {
      "text/plain": [
       "21259"
      ]
     },
     "metadata": {},
     "output_type": "display_data"
    },
    {
     "data": {
      "text/plain": [
       "23"
      ]
     },
     "metadata": {},
     "output_type": "display_data"
    }
   ],
   "source": [
    "# собираем все адреса с геопозицией\n",
    "location_def = location[~location['latitude'].isna()].reset_index(drop=True)\n",
    "display(len(location_def))\n",
    "\n",
    "# собираем все адреса без геопозиции\n",
    "location_undef = location[location['latitude'].isna()][['address']].reset_index(drop=True)\n",
    "display(len(location_undef))"
   ]
  },
  {
   "cell_type": "code",
   "execution_count": 18,
   "id": "dd1a1d7f",
   "metadata": {},
   "outputs": [
    {
     "data": {
      "text/html": [
       "<div>\n",
       "<style scoped>\n",
       "    .dataframe tbody tr th:only-of-type {\n",
       "        vertical-align: middle;\n",
       "    }\n",
       "\n",
       "    .dataframe tbody tr th {\n",
       "        vertical-align: top;\n",
       "    }\n",
       "\n",
       "    .dataframe thead th {\n",
       "        text-align: right;\n",
       "    }\n",
       "</style>\n",
       "<table border=\"1\" class=\"dataframe\">\n",
       "  <thead>\n",
       "    <tr style=\"text-align: right;\">\n",
       "      <th></th>\n",
       "      <th>address</th>\n",
       "    </tr>\n",
       "  </thead>\n",
       "  <tbody>\n",
       "    <tr>\n",
       "      <th>0</th>\n",
       "      <td>севастополь,6-я бастионная улица ,83</td>\n",
       "    </tr>\n",
       "    <tr>\n",
       "      <th>1</th>\n",
       "      <td>севастополь,балаклава,аланская улица ,71</td>\n",
       "    </tr>\n",
       "    <tr>\n",
       "      <th>2</th>\n",
       "      <td>севастополь,балаклава,набережная назукина</td>\n",
       "    </tr>\n",
       "    <tr>\n",
       "      <th>3</th>\n",
       "      <td>севастополь,балтийская улица ,9</td>\n",
       "    </tr>\n",
       "    <tr>\n",
       "      <th>4</th>\n",
       "      <td>севастополь,гагаринский район ,мкр-н казачья б...</td>\n",
       "    </tr>\n",
       "    <tr>\n",
       "      <th>5</th>\n",
       "      <td>севастополь,декоративный бульвар ,55</td>\n",
       "    </tr>\n",
       "    <tr>\n",
       "      <th>6</th>\n",
       "      <td>севастополь,новая улица ,11</td>\n",
       "    </tr>\n",
       "    <tr>\n",
       "      <th>7</th>\n",
       "      <td>севастополь,пгт.кача,улица авиаторов,27</td>\n",
       "    </tr>\n",
       "    <tr>\n",
       "      <th>8</th>\n",
       "      <td>севастополь,село вилино,улица чапаева,20</td>\n",
       "    </tr>\n",
       "    <tr>\n",
       "      <th>9</th>\n",
       "      <td>севастополь,село орловка,качинское шоссе ,35г</td>\n",
       "    </tr>\n",
       "    <tr>\n",
       "      <th>10</th>\n",
       "      <td>севастополь,село орловка,качинское шоссе ,38/83</td>\n",
       "    </tr>\n",
       "    <tr>\n",
       "      <th>11</th>\n",
       "      <td>севастополь,село песчаное,бассейная улица ,2</td>\n",
       "    </tr>\n",
       "    <tr>\n",
       "      <th>12</th>\n",
       "      <td>севастополь,ст атлантика-2,32а</td>\n",
       "    </tr>\n",
       "    <tr>\n",
       "      <th>13</th>\n",
       "      <td>севастополь,ст дергачи-4,34</td>\n",
       "    </tr>\n",
       "    <tr>\n",
       "      <th>14</th>\n",
       "      <td>севастополь,ст радар-с,6-я радарная улица ,13а</td>\n",
       "    </tr>\n",
       "    <tr>\n",
       "      <th>15</th>\n",
       "      <td>севастополь,ст старт,59</td>\n",
       "    </tr>\n",
       "    <tr>\n",
       "      <th>16</th>\n",
       "      <td>севастополь,тсн снт учкуевка,малиновая линия,22</td>\n",
       "    </tr>\n",
       "    <tr>\n",
       "      <th>17</th>\n",
       "      <td>севастополь,улица глухова,9а</td>\n",
       "    </tr>\n",
       "    <tr>\n",
       "      <th>18</th>\n",
       "      <td>севастополь,улица одинцова,5</td>\n",
       "    </tr>\n",
       "    <tr>\n",
       "      <th>19</th>\n",
       "      <td>севастополь,улица пожарова,6</td>\n",
       "    </tr>\n",
       "    <tr>\n",
       "      <th>20</th>\n",
       "      <td>севастополь,улица суворова,22а</td>\n",
       "    </tr>\n",
       "    <tr>\n",
       "      <th>21</th>\n",
       "      <td>севастополь,улица челюскинцев,117</td>\n",
       "    </tr>\n",
       "    <tr>\n",
       "      <th>22</th>\n",
       "      <td>севастополь,харьковская улица ,25</td>\n",
       "    </tr>\n",
       "  </tbody>\n",
       "</table>\n",
       "</div>"
      ],
      "text/plain": [
       "                                              address\n",
       "0                севастополь,6-я бастионная улица ,83\n",
       "1            севастополь,балаклава,аланская улица ,71\n",
       "2           севастополь,балаклава,набережная назукина\n",
       "3                     севастополь,балтийская улица ,9\n",
       "4   севастополь,гагаринский район ,мкр-н казачья б...\n",
       "5                севастополь,декоративный бульвар ,55\n",
       "6                         севастополь,новая улица ,11\n",
       "7             севастополь,пгт.кача,улица авиаторов,27\n",
       "8            севастополь,село вилино,улица чапаева,20\n",
       "9       севастополь,село орловка,качинское шоссе ,35г\n",
       "10    севастополь,село орловка,качинское шоссе ,38/83\n",
       "11       севастополь,село песчаное,бассейная улица ,2\n",
       "12                     севастополь,ст атлантика-2,32а\n",
       "13                        севастополь,ст дергачи-4,34\n",
       "14     севастополь,ст радар-с,6-я радарная улица ,13а\n",
       "15                            севастополь,ст старт,59\n",
       "16    севастополь,тсн снт учкуевка,малиновая линия,22\n",
       "17                       севастополь,улица глухова,9а\n",
       "18                       севастополь,улица одинцова,5\n",
       "19                       севастополь,улица пожарова,6\n",
       "20                     севастополь,улица суворова,22а\n",
       "21                  севастополь,улица челюскинцев,117\n",
       "22                  севастополь,харьковская улица ,25"
      ]
     },
     "metadata": {},
     "output_type": "display_data"
    }
   ],
   "source": [
    "display(location_undef)"
   ]
  },
  {
   "cell_type": "code",
   "execution_count": 19,
   "id": "053b9c92",
   "metadata": {},
   "outputs": [],
   "source": [
    "from tqdm.auto import tqdm\n",
    "tqdm.pandas()"
   ]
  },
  {
   "cell_type": "code",
   "execution_count": 20,
   "id": "9f8dcec3",
   "metadata": {},
   "outputs": [
    {
     "data": {
      "application/vnd.jupyter.widget-view+json": {
       "model_id": "59ed9527d42e40efa4b76f1d4667d000",
       "version_major": 2,
       "version_minor": 0
      },
      "text/plain": [
       "  0%|          | 0/23 [00:00<?, ?it/s]"
      ]
     },
     "metadata": {},
     "output_type": "display_data"
    },
    {
     "data": {
      "text/plain": [
       "'LocationUpdater: 23 new addresses found'"
      ]
     },
     "metadata": {},
     "output_type": "display_data"
    }
   ],
   "source": [
    "# from lib.locator import GeocoderSimpleOSM\n",
    "from lib.locator import GeocoderYandex\n",
    "from yandex_keys import keys\n",
    "\n",
    "atr = AddressTransformer()\n",
    "locator = GeocoderYandex(keys[0])\n",
    "# locator = GeocoderSimpleOSM()\n",
    "\n",
    "if len(location_undef)>0:\n",
    "    # определяем координаты по строке адреса\n",
    "    location_undef = location_undef.join( \n",
    "            location_undef['address'].progress_apply(locator.transform).apply(pd.Series) \n",
    "        ).dropna()     \n",
    "    display(f'LocationUpdater: {len(location_undef)} new addresses found')\n",
    "    location = pd.concat([location_def,location_undef]).reset_index(drop=True) \n",
    "    assert len(location)>0\n",
    "    # location.to_pickle(loc_file_path)"
   ]
  },
  {
   "cell_type": "code",
   "execution_count": 21,
   "id": "19741bb7",
   "metadata": {},
   "outputs": [
    {
     "data": {
      "text/plain": [
       "21282"
      ]
     },
     "metadata": {},
     "output_type": "display_data"
    },
    {
     "data": {
      "text/html": [
       "<div>\n",
       "<style scoped>\n",
       "    .dataframe tbody tr th:only-of-type {\n",
       "        vertical-align: middle;\n",
       "    }\n",
       "\n",
       "    .dataframe tbody tr th {\n",
       "        vertical-align: top;\n",
       "    }\n",
       "\n",
       "    .dataframe thead th {\n",
       "        text-align: right;\n",
       "    }\n",
       "</style>\n",
       "<table border=\"1\" class=\"dataframe\">\n",
       "  <thead>\n",
       "    <tr style=\"text-align: right;\">\n",
       "      <th></th>\n",
       "      <th>address</th>\n",
       "      <th>latitude</th>\n",
       "      <th>longitude</th>\n",
       "    </tr>\n",
       "  </thead>\n",
       "  <tbody>\n",
       "    <tr>\n",
       "      <th>1803</th>\n",
       "      <td>севастополь,балаклава,садоводческое товарищест...</td>\n",
       "      <td>44.503734</td>\n",
       "      <td>33.617581</td>\n",
       "    </tr>\n",
       "    <tr>\n",
       "      <th>6188</th>\n",
       "      <td>севастополь,р-н балаклавский,теремок садоводче...</td>\n",
       "      <td>44.513897</td>\n",
       "      <td>33.511768</td>\n",
       "    </tr>\n",
       "    <tr>\n",
       "      <th>2489</th>\n",
       "      <td>севастополь,гагаринский район ,казачья бухта,р...</td>\n",
       "      <td>44.565906</td>\n",
       "      <td>33.408705</td>\n",
       "    </tr>\n",
       "  </tbody>\n",
       "</table>\n",
       "</div>"
      ],
      "text/plain": [
       "                                                address   latitude  longitude\n",
       "1803  севастополь,балаклава,садоводческое товарищест...  44.503734  33.617581\n",
       "6188  севастополь,р-н балаклавский,теремок садоводче...  44.513897  33.511768\n",
       "2489  севастополь,гагаринский район ,казачья бухта,р...  44.565906  33.408705"
      ]
     },
     "metadata": {},
     "output_type": "display_data"
    }
   ],
   "source": [
    "display( len(location) )\n",
    "display( location.sample(3) )"
   ]
  },
  {
   "cell_type": "code",
   "execution_count": 22,
   "id": "779d564b",
   "metadata": {},
   "outputs": [],
   "source": [
    "assert len(location)>0\n",
    "location.to_pickle(loc_file_path)"
   ]
  },
  {
   "cell_type": "markdown",
   "id": "30dbd6a6",
   "metadata": {},
   "source": [
    "## дополняем данные геометкой"
   ]
  },
  {
   "cell_type": "code",
   "execution_count": 23,
   "id": "b5b451e5",
   "metadata": {},
   "outputs": [
    {
     "data": {
      "text/plain": [
       "888"
      ]
     },
     "metadata": {},
     "output_type": "display_data"
    },
    {
     "data": {
      "text/plain": [
       "888"
      ]
     },
     "metadata": {},
     "output_type": "display_data"
    },
    {
     "data": {
      "text/html": [
       "<div>\n",
       "<style scoped>\n",
       "    .dataframe tbody tr th:only-of-type {\n",
       "        vertical-align: middle;\n",
       "    }\n",
       "\n",
       "    .dataframe tbody tr th {\n",
       "        vertical-align: top;\n",
       "    }\n",
       "\n",
       "    .dataframe thead th {\n",
       "        text-align: right;\n",
       "    }\n",
       "</style>\n",
       "<table border=\"1\" class=\"dataframe\">\n",
       "  <thead>\n",
       "    <tr style=\"text-align: right;\">\n",
       "      <th></th>\n",
       "      <th>url</th>\n",
       "      <th>place</th>\n",
       "      <th>title</th>\n",
       "      <th>price</th>\n",
       "      <th>address</th>\n",
       "      <th>description</th>\n",
       "      <th>ts</th>\n",
       "      <th>nrooms</th>\n",
       "      <th>floor</th>\n",
       "      <th>nfloors</th>\n",
       "      <th>...</th>\n",
       "      <th>is_auction</th>\n",
       "      <th>is_openspace</th>\n",
       "      <th>is_roof</th>\n",
       "      <th>is_SNT</th>\n",
       "      <th>priceM</th>\n",
       "      <th>is_last_floor</th>\n",
       "      <th>address_orig</th>\n",
       "      <th>place_</th>\n",
       "      <th>latitude</th>\n",
       "      <th>longitude</th>\n",
       "    </tr>\n",
       "  </thead>\n",
       "  <tbody>\n",
       "    <tr>\n",
       "      <th>856</th>\n",
       "      <td>https://www.avito.ru/1923450899</td>\n",
       "      <td>sevastopol</td>\n",
       "      <td>апартаменты-студия, 45 м², 1/2 эт.</td>\n",
       "      <td>70000</td>\n",
       "      <td>севастополь,улица челнокова,17/5</td>\n",
       "      <td>Новая уютная студия рядом с пляжем Адмиральска...</td>\n",
       "      <td>2024-10-15 11:49:32.758481</td>\n",
       "      <td>0</td>\n",
       "      <td>1</td>\n",
       "      <td>2</td>\n",
       "      <td>...</td>\n",
       "      <td>False</td>\n",
       "      <td>False</td>\n",
       "      <td>False</td>\n",
       "      <td>False</td>\n",
       "      <td>0.070000</td>\n",
       "      <td>False</td>\n",
       "      <td>улица Челнокова, 17/5</td>\n",
       "      <td>Севастополь,</td>\n",
       "      <td>44.592756</td>\n",
       "      <td>33.43066</td>\n",
       "    </tr>\n",
       "    <tr>\n",
       "      <th>33</th>\n",
       "      <td>https://www.avito.ru/4435737867</td>\n",
       "      <td>sevastopol</td>\n",
       "      <td>1-к. квартира, 46 м², 1/10 эт.</td>\n",
       "      <td>26999</td>\n",
       "      <td>севастополь,улица астана кесаева,2</td>\n",
       "      <td>Сдается однокомнатная квартира на длительный п...</td>\n",
       "      <td>2024-10-15 11:49:32.758481</td>\n",
       "      <td>1</td>\n",
       "      <td>1</td>\n",
       "      <td>10</td>\n",
       "      <td>...</td>\n",
       "      <td>False</td>\n",
       "      <td>False</td>\n",
       "      <td>False</td>\n",
       "      <td>False</td>\n",
       "      <td>0.026999</td>\n",
       "      <td>False</td>\n",
       "      <td>улица Астана Кесаева, 2</td>\n",
       "      <td>Севастополь,</td>\n",
       "      <td>44.586889</td>\n",
       "      <td>33.45212</td>\n",
       "    </tr>\n",
       "    <tr>\n",
       "      <th>542</th>\n",
       "      <td>https://www.avito.ru/3922500442</td>\n",
       "      <td>sevastopol</td>\n",
       "      <td>2-к. квартира, 48 м², 1/1 эт.</td>\n",
       "      <td>22000</td>\n",
       "      <td>севастополь,улица ватутина,60</td>\n",
       "      <td>Сдается длительно, Ленинский район, в частном ...</td>\n",
       "      <td>2024-10-15 11:49:32.758481</td>\n",
       "      <td>2</td>\n",
       "      <td>1</td>\n",
       "      <td>1</td>\n",
       "      <td>...</td>\n",
       "      <td>False</td>\n",
       "      <td>False</td>\n",
       "      <td>False</td>\n",
       "      <td>False</td>\n",
       "      <td>0.022000</td>\n",
       "      <td>True</td>\n",
       "      <td>улица Ватутина, 60</td>\n",
       "      <td>Севастополь,</td>\n",
       "      <td>44.584205</td>\n",
       "      <td>33.527453</td>\n",
       "    </tr>\n",
       "  </tbody>\n",
       "</table>\n",
       "<p>3 rows × 24 columns</p>\n",
       "</div>"
      ],
      "text/plain": [
       "                                 url       place  \\\n",
       "856  https://www.avito.ru/1923450899  sevastopol   \n",
       "33   https://www.avito.ru/4435737867  sevastopol   \n",
       "542  https://www.avito.ru/3922500442  sevastopol   \n",
       "\n",
       "                                  title  price  \\\n",
       "856  апартаменты-студия, 45 м², 1/2 эт.  70000   \n",
       "33       1-к. квартира, 46 м², 1/10 эт.  26999   \n",
       "542       2-к. квартира, 48 м², 1/1 эт.  22000   \n",
       "\n",
       "                                address  \\\n",
       "856    севастополь,улица челнокова,17/5   \n",
       "33   севастополь,улица астана кесаева,2   \n",
       "542       севастополь,улица ватутина,60   \n",
       "\n",
       "                                           description  \\\n",
       "856  Новая уютная студия рядом с пляжем Адмиральска...   \n",
       "33   Сдается однокомнатная квартира на длительный п...   \n",
       "542  Сдается длительно, Ленинский район, в частном ...   \n",
       "\n",
       "                            ts  nrooms  floor  nfloors  ...  is_auction  \\\n",
       "856 2024-10-15 11:49:32.758481       0      1        2  ...       False   \n",
       "33  2024-10-15 11:49:32.758481       1      1       10  ...       False   \n",
       "542 2024-10-15 11:49:32.758481       2      1        1  ...       False   \n",
       "\n",
       "     is_openspace  is_roof  is_SNT    priceM  is_last_floor  \\\n",
       "856         False    False   False  0.070000          False   \n",
       "33          False    False   False  0.026999          False   \n",
       "542         False    False   False  0.022000           True   \n",
       "\n",
       "                 address_orig        place_   latitude  longitude  \n",
       "856     улица Челнокова, 17/5  Севастополь,  44.592756   33.43066  \n",
       "33    улица Астана Кесаева, 2  Севастополь,  44.586889   33.45212  \n",
       "542        улица Ватутина, 60  Севастополь,  44.584205  33.527453  \n",
       "\n",
       "[3 rows x 24 columns]"
      ]
     },
     "metadata": {},
     "output_type": "display_data"
    }
   ],
   "source": [
    "display( len(df_flat) )\n",
    "df_flat  = df_flat.merge(location,on='address').reset_index(drop=True) \n",
    "display( len(df_flat) )\n",
    "display( df_flat.sample(3) )"
   ]
  },
  {
   "cell_type": "code",
   "execution_count": 24,
   "id": "8221e16c",
   "metadata": {},
   "outputs": [],
   "source": [
    "# display(len(df_flat))\n",
    "# df_flat = address_filter(df_flat)\n",
    "# display(len(df_flat))\n",
    "\n",
    "# display(len(df_land))\n",
    "# df_land = address_filter(df_land)\n",
    "# display(len(df_land))\n",
    "\n",
    "# display(len(df_house))\n",
    "# df_house = address_filter(df_house)\n",
    "# display(len(df_house))"
   ]
  },
  {
   "cell_type": "code",
   "execution_count": 25,
   "id": "8021507a",
   "metadata": {},
   "outputs": [],
   "source": [
    "assert len(df_flat)>0\n",
    "df_flat.to_pickle(f'{data_root_folder}/df_flat-arenda.pkl')"
   ]
  },
  {
   "cell_type": "code",
   "execution_count": 26,
   "id": "e9bb3758",
   "metadata": {},
   "outputs": [
    {
     "name": "stdout",
     "output_type": "stream",
     "text": [
      "Вт 15 окт 2024 11:54:28 MSK\n"
     ]
    }
   ],
   "source": [
    "!date"
   ]
  },
  {
   "cell_type": "code",
   "execution_count": null,
   "id": "e05083f4",
   "metadata": {},
   "outputs": [],
   "source": []
  }
 ],
 "metadata": {
  "kernelspec": {
   "display_name": "Python 3 (ipykernel)",
   "language": "python",
   "name": "python3"
  },
  "language_info": {
   "codemirror_mode": {
    "name": "ipython",
    "version": 3
   },
   "file_extension": ".py",
   "mimetype": "text/x-python",
   "name": "python",
   "nbconvert_exporter": "python",
   "pygments_lexer": "ipython3",
   "version": "3.12.6"
  }
 },
 "nbformat": 4,
 "nbformat_minor": 5
}
